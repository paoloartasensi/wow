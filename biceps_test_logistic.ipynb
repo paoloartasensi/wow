{
 "cells": [
  {
   "attachments": {},
   "cell_type": "markdown",
   "metadata": {},
   "source": [
    "# Analisi BICEPS ex post 'previsione' vs. 'reale'"
   ]
  },
  {
   "cell_type": "code",
   "execution_count": null,
   "metadata": {},
   "outputs": [],
   "source": [
    "import numpy as np\n",
    "import pandas as pd\n",
    "from sklearn.datasets import fetch_california_housing\n",
    "from sklearn.model_selection import train_test_split\n",
    "from sklearn.linear_model import LinearRegression\n",
    "from sklearn.linear_model import Ridge\n",
    "from sklearn.tree import DecisionTreeClassifier\n",
    "from sklearn.tree import DecisionTreeRegressor\n",
    "from sklearn.linear_model import LinearRegression\n",
    "from sklearn.linear_model import LogisticRegression\n",
    "from sklearn.metrics import accuracy_score\n",
    "from sklearn.metrics import confusion_matrix\n",
    "from sklearn.metrics import precision_score\n",
    "from sklearn.metrics import recall_score\n",
    "from sklearn.metrics import classification_report\n",
    "from sklearn import tree\n",
    "from matplotlib import pyplot as plt\n",
    "import seaborn as sns\n",
    "import os"
   ]
  },
  {
   "cell_type": "code",
   "execution_count": null,
   "metadata": {},
   "outputs": [],
   "source": [
    "# Scelta automatica del Path locale tra \"paoloartasensi\" o \"lorenzobassetti\"\n",
    "path = '/Users/paoloartasensi/Python_Scripts/'\n",
    "isdir = os.path.isdir(path)\n",
    "if isdir == True:\n",
    "    path = '/Users/paoloartasensi/Python_Scripts/artabax/'\n",
    "else:\n",
    "    path = '/Users/lorenzobassetti/Dropbox/Quant/Python_DEV/artabax/'"
   ]
  },
  {
   "cell_type": "code",
   "execution_count": null,
   "metadata": {},
   "outputs": [],
   "source": [
    "df_raw = pd.read_csv(path+'artbax_csv/biceps_20221222_1209AM_prob.csv')\n",
    "df_raw.set_index('Time', inplace=True)\n",
    "# df"
   ]
  },
  {
   "cell_type": "code",
   "execution_count": null,
   "metadata": {},
   "outputs": [],
   "source": [
    "shift = 3\n",
    "soglia_prob = 0.5\n",
    "rolling_prob = 10"
   ]
  },
  {
   "cell_type": "code",
   "execution_count": null,
   "metadata": {},
   "outputs": [],
   "source": [
    "df=df_raw.copy()\n",
    "df.rolling(5).mean()\n",
    "df['prob'] = df['prob'].rolling(rolling_prob).mean()"
   ]
  },
  {
   "cell_type": "code",
   "execution_count": null,
   "metadata": {},
   "outputs": [],
   "source": [
    "df['prob'].loc[df['prob'] > soglia_prob] = 1\n",
    "df['prob'].loc[df['prob'] <= soglia_prob] = 0"
   ]
  },
  {
   "cell_type": "code",
   "execution_count": null,
   "metadata": {},
   "outputs": [],
   "source": [
    "# applico uno shift per ogni posizione i con ['DOWN']==1, \n",
    "# assegno alle righe prima e dopo ['DOWN']=1\n",
    "# numero di righe determinato da [shift]\n",
    "\n",
    "df_temp = df.loc[df['DOWN'] ==1]\n",
    "pos = np.array(df_temp.index)\n",
    "\n",
    "for i in pos:\n",
    "    for k in range(-shift+1, shift, 1):\n",
    "        df.at[i+k, 'DOWN'] =1\n",
    "\n",
    "\n",
    "df_temp2 = df.loc[df['prob'] ==1]\n",
    "pos2 = np.array(df_temp2.index)\n",
    "\n",
    "for i in pos2:\n",
    "    for k in range(-shift+1, shift, 1):\n",
    "        df.at[i+k, 'prob'] =1\n",
    "\n",
    "df.dropna(inplace=True)"
   ]
  },
  {
   "cell_type": "code",
   "execution_count": null,
   "metadata": {},
   "outputs": [],
   "source": [
    "plt.figure(figsize=(12,6))\n",
    "plt.plot(df['DOWN'], color='green')\n",
    "plt.plot(df['prob'], color='orange')\n",
    "plt.show()"
   ]
  }
 ],
 "metadata": {
  "kernelspec": {
   "display_name": "base",
   "language": "python",
   "name": "python3"
  },
  "language_info": {
   "codemirror_mode": {
    "name": "ipython",
    "version": 3
   },
   "file_extension": ".py",
   "mimetype": "text/x-python",
   "name": "python",
   "nbconvert_exporter": "python",
   "pygments_lexer": "ipython3",
   "version": "3.9.15"
  },
  "orig_nbformat": 4,
  "vscode": {
   "interpreter": {
    "hash": "8b6617685accd4af7f4132e41a63528e481eb652d27c876668ce43df200deedd"
   }
  }
 },
 "nbformat": 4,
 "nbformat_minor": 2
}
