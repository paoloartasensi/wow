{
 "cells": [
  {
   "cell_type": "code",
   "execution_count": 11,
   "metadata": {},
   "outputs": [],
   "source": [
    "# README, this is a copy of the orginal scritp file stored in \"MyFlask\" Google Project,\n",
    "# on Google Cloud Run service, it works with main.py FLASK APP \n",
    "# it will run the Machine Learning and put the file to FTP\n",
    "# WARNING, it works from anywhere!\n",
    "\n",
    "import pandas as pd\n",
    "from sklearn.linear_model import LogisticRegression\n",
    "from sklearn.model_selection import train_test_split\n",
    "from sklearn.metrics import accuracy_score, precision_score, recall_score\n",
    "import ftplib\n",
    "import csv\n",
    "import json\n",
    "\n",
    "\n",
    "url = 'https://dev.paoloartasensi.it/python/csv/last_dataset.csv'\n",
    "df = pd.read_csv(url)\n",
    "\n",
    "X = df[['ax', 'ay', 'az', 'gx', 'gy', 'gz','pitch','roll', 'BAR','totacc' ]]\n",
    "y = df['status']\n",
    "X_train, X_test, y_train, y_test = train_test_split(X, y, test_size=0.2, random_state=None)\n",
    "model = LogisticRegression(max_iter=1000)\n",
    "model.fit(X_train, y_train)\n",
    "y_pred = model.predict(X_test)\n",
    "accuracy = accuracy_score(y_test, y_pred)\n",
    "precision = precision_score(y_test, y_pred)\n",
    "recall = recall_score(y_test, y_pred)\n",
    "intercept = float(model.intercept_)\n",
    "\n"
   ]
  },
  {
   "cell_type": "code",
   "execution_count": 13,
   "metadata": {},
   "outputs": [],
   "source": [
    "# Open file in write mode\n",
    "with open('coefficients.json', 'w') as jsonfile:\n",
    "    # Initialize an empty dictionary to store the information\n",
    "    data = {}\n",
    "    # Iterate over features and coefficients\n",
    "    for feature, coef in zip(X.columns, model.coef_[0]):\n",
    "        # Add feature and coefficient to dictionary\n",
    "        data[feature] = coef\n",
    "\n",
    "    # Add intercept to dictionary\n",
    "    data['intercept'] = model.intercept_[0]\n",
    "    data['']\n",
    "    # Write dictionary to file\n",
    "    json.dump(data, jsonfile)\n"
   ]
  }
 ],
 "metadata": {
  "kernelspec": {
   "display_name": "base",
   "language": "python",
   "name": "python3"
  },
  "language_info": {
   "codemirror_mode": {
    "name": "ipython",
    "version": 3
   },
   "file_extension": ".py",
   "mimetype": "text/x-python",
   "name": "python",
   "nbconvert_exporter": "python",
   "pygments_lexer": "ipython3",
   "version": "3.9.15"
  },
  "orig_nbformat": 4,
  "vscode": {
   "interpreter": {
    "hash": "8b6617685accd4af7f4132e41a63528e481eb652d27c876668ce43df200deedd"
   }
  }
 },
 "nbformat": 4,
 "nbformat_minor": 2
}
